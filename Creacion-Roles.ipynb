{
 "cells": [
  {
   "cell_type": "code",
   "execution_count": 3,
   "metadata": {},
   "outputs": [
    {
     "name": "stdout",
     "output_type": "stream",
     "text": [
      "{'id': 'cn=aaaasdasdasdas-2025,cn=Level10,cn=RoleDefs,cn=RoleConfig,cn=AppConfig,cn=User Application Driver,cn=DriverSet,ou=system,o=lab', 'name': 'asdasdqw3rtesdfsfsdf', 'description': 'asdasdqw3rtesdfsfsdf', 'categories': [None], 'owners': [None], 'level': 10, 'approvalRequired': False, 'revokeRequired': False, 'localizedNames': [{'locale': 'zh_CN', 'name': 'asdasdqw3rtesdfsfsdf'}, {'locale': 'pt', 'name': 'asdasdqw3rtesdfsfsdf'}, {'locale': 'fr', 'name': 'asdasdqw3rtesdfsfsdf'}, {'locale': 'ru', 'name': 'asdasdqw3rtesdfsfsdf'}, {'locale': 'ja', 'name': 'asdasdqw3rtesdfsfsdf'}, {'locale': 'zh_TW', 'name': 'asdasdqw3rtesdfsfsdf'}, {'locale': 'it', 'name': 'asdasdqw3rtesdfsfsdf'}, {'locale': 'da', 'name': 'asdasdqw3rtesdfsfsdf'}, {'locale': 'iw', 'name': 'asdasdqw3rtesdfsfsdf'}, {'locale': 'de', 'name': 'asdasdqw3rtesdfsfsdf'}, {'locale': 'es', 'name': 'asdasdqw3rtesdfsfsdf'}, {'locale': 'en', 'name': 'asdasdqw3rtesdfsfsdf'}, {'locale': 'nb', 'name': 'asdasdqw3rtesdfsfsdf'}, {'locale': 'sv', 'name': 'asdasdqw3rtesdfsfsdf'}, {'locale': 'cs', 'name': 'asdasdqw3rtesdfsfsdf'}, {'locale': 'nl', 'name': 'asdasdqw3rtesdfsfsdf'}, {'locale': 'pl', 'name': 'asdasdqw3rtesdfsfsdf'}], 'localizedDescriptions': [{'locale': 'zh_CN', 'desc': 'asdasdqw3rtesdfsfsdf'}, {'locale': 'pt', 'desc': 'asdasdqw3rtesdfsfsdf'}, {'locale': 'fr', 'desc': 'asdasdqw3rtesdfsfsdf'}, {'locale': 'ru', 'desc': 'asdasdqw3rtesdfsfsdf'}, {'locale': 'ja', 'desc': 'asdasdqw3rtesdfsfsdf'}, {'locale': 'zh_TW', 'desc': 'asdasdqw3rtesdfsfsdf'}, {'locale': 'it', 'desc': 'asdasdqw3rtesdfsfsdf'}, {'locale': 'da', 'desc': 'asdasdqw3rtesdfsfsdf'}, {'locale': 'iw', 'desc': 'asdasdqw3rtesdfsfsdf'}, {'locale': 'de', 'desc': 'asdasdqw3rtesdfsfsdf'}, {'locale': 'es', 'desc': 'asdasdqw3rtesdfsfsdf'}, {'locale': 'en', 'desc': 'asdasdqw3rtesdfsfsdf'}, {'locale': 'nb', 'desc': 'asdasdqw3rtesdfsfsdf'}, {'locale': 'sv', 'desc': 'asdasdqw3rtesdfsfsdf'}, {'locale': 'cs', 'desc': 'asdasdqw3rtesdfsfsdf'}, {'locale': 'nl', 'desc': 'asdasdqw3rtesdfsfsdf'}, {'locale': 'pl', 'desc': 'asdasdqw3rtesdfsfsdf'}], 'status': 50}\n"
     ]
    },
    {
     "data": {
      "text/plain": [
       "True"
      ]
     },
     "execution_count": 3,
     "metadata": {},
     "output_type": "execute_result"
    }
   ],
   "source": [
    "from idm.src.cnetiq_idm_client import IDMConn\n",
    "import configparser\n",
    "\n",
    "\n",
    "config = configparser.ConfigParser()\n",
    "config.read('config.ini')\n",
    "\n",
    "idmConn = IDMConn(config['url']['base'], config['basic-cred']['user'], config['basic-cred']['pass'], config['web-cred']['user'], config['web-cred']['pass'])\n",
    "idmConn.Login()\n",
    "\n",
    "# role = idmConn.findRoleByName(\"child*\")\n",
    "# print(role)\n",
    "# roleF = idmConn.getRoleByID(role[0]['id'])\n",
    "# print(roleF)\n",
    "\n",
    "afterC = idmConn.createRole('aaaasdasdasdas-2025', 'asdasdqw3rtesdfsfsdf','asdasdqw3rtesdfsfsdf')\n",
    "print(afterC)\n",
    "idmConn.Logout()"
   ]
  }
 ],
 "metadata": {
  "kernelspec": {
   "display_name": ".venv",
   "language": "python",
   "name": "python3"
  },
  "language_info": {
   "codemirror_mode": {
    "name": "ipython",
    "version": 3
   },
   "file_extension": ".py",
   "mimetype": "text/x-python",
   "name": "python",
   "nbconvert_exporter": "python",
   "pygments_lexer": "ipython3",
   "version": "3.13.2"
  }
 },
 "nbformat": 4,
 "nbformat_minor": 2
}
